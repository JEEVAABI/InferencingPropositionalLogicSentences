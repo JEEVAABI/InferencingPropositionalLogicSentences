{
 "cells": [
  {
   "cell_type": "code",
   "execution_count": 15,
   "id": "dc8fe57d",
   "metadata": {},
   "outputs": [],
   "source": [
    "from utils import *\n",
    "from logic import *"
   ]
  },
  {
   "cell_type": "code",
   "execution_count": 16,
   "id": "eb5d7761",
   "metadata": {},
   "outputs": [],
   "source": [
    "wumpus_kb = PropKB()"
   ]
  },
  {
   "cell_type": "code",
   "execution_count": 17,
   "id": "80b4f4b5",
   "metadata": {},
   "outputs": [],
   "source": [
    "P11, P12, P21, P22, P31, P32, P33, P13, P23, B11, B12, B21, B22, B31, B32, B33, B13, B23 ,W11, W12, W21, W22, W31, W32, W33, W13, W23, S11, S12, S21, S22, S31, S32, S33, S13, S23= expr('P11, P12, P21, P22, P31, P32, P33, P13, P23, B11, B12, B21, B22, B31, B32, B33, B13, B23, W11, W12, W21, W22, W31, W32, W33, W13, W23, S11, S12, S21, S22, S31, S32, S33, S13, S23')"
   ]
  },
  {
   "cell_type": "code",
   "execution_count": 18,
   "id": "bac05349",
   "metadata": {},
   "outputs": [],
   "source": [
    "wumpus_kb.tell(~P11)\n",
    "wumpus_kb.tell(~S11)\n",
    "wumpus_kb.tell(~W11)\n",
    "wumpus_kb.tell(~B11)"
   ]
  },
  {
   "cell_type": "code",
   "execution_count": 19,
   "id": "a44cd57a",
   "metadata": {},
   "outputs": [
    {
     "data": {
      "text/plain": [
       "False"
      ]
     },
     "execution_count": 19,
     "metadata": {},
     "output_type": "execute_result"
    }
   ],
   "source": [
    "wumpus_kb.ask_if_true(P12)"
   ]
  },
  {
   "cell_type": "code",
   "execution_count": 20,
   "id": "b0ec59a4",
   "metadata": {},
   "outputs": [],
   "source": [
    "wumpus_kb.tell(~S22)\n",
    "wumpus_kb.tell(~B22)\n",
    "wumpus_kb.tell(~P22)\n",
    "wumpus_kb.tell(~W22)"
   ]
  },
  {
   "cell_type": "code",
   "execution_count": 21,
   "id": "72edefb1",
   "metadata": {},
   "outputs": [],
   "source": [
    "wumpus_kb.tell(S23)"
   ]
  },
  {
   "cell_type": "code",
   "execution_count": 22,
   "id": "a1592f4a",
   "metadata": {},
   "outputs": [],
   "source": [
    "wumpus_kb.tell(~S21)\n",
    "wumpus_kb.tell(~B21)\n",
    "wumpus_kb.tell(~P21)\n",
    "wumpus_kb.tell(~W21)\n",
    "wumpus_kb.tell(~S31)\n",
    "wumpus_kb.tell(~B31)\n",
    "wumpus_kb.tell(~P31)\n",
    "wumpus_kb.tell(~W31)\n",
    "wumpus_kb.tell(~S32)\n",
    "wumpus_kb.tell(~B32)\n",
    "wumpus_kb.tell(~P32)\n",
    "wumpus_kb.tell(~W32)\n",
    "wumpus_kb.tell(~S33)\n",
    "wumpus_kb.tell(~B33)\n",
    "wumpus_kb.tell(~P33)\n",
    "wumpus_kb.tell(~W33)"
   ]
  },
  {
   "cell_type": "code",
   "execution_count": 23,
   "id": "dab78d52",
   "metadata": {},
   "outputs": [],
   "source": [
    "wumpus_kb.tell(S12 | '<=>' | ((W22 | W13)))\n",
    "wumpus_kb.tell(~B12 | '<=>' | ((~P22 | ~P13)))\n",
    "wumpus_kb.tell(S23 | '<=>' | ((W13 | W33)))\n",
    "wumpus_kb.tell(~B23 | '<=>' | ((~P13 | ~P33)))"
   ]
  },
  {
   "cell_type": "code",
   "execution_count": 24,
   "id": "0466a093",
   "metadata": {},
   "outputs": [
    {
     "data": {
      "text/plain": [
       "[~P11,\n",
       " ~S11,\n",
       " ~W11,\n",
       " ~B11,\n",
       " S12,\n",
       " S23,\n",
       " ~S22,\n",
       " ~B22,\n",
       " ~P22,\n",
       " ~W22,\n",
       " (~W22 | S12),\n",
       " (~W13 | S12),\n",
       " (W22 | W13 | ~S12),\n",
       " (P22 | ~B12),\n",
       " (P13 | ~B12),\n",
       " (~P22 | ~P13 | B12),\n",
       " (~W13 | S23),\n",
       " (~W33 | S23),\n",
       " (W13 | W33 | ~S23),\n",
       " (P13 | ~B23),\n",
       " (P33 | ~B23),\n",
       " (~P13 | ~P33 | B23)]"
      ]
     },
     "execution_count": 24,
     "metadata": {},
     "output_type": "execute_result"
    }
   ],
   "source": [
    "wumpus_kb.clauses"
   ]
  },
  {
   "cell_type": "code",
   "execution_count": 25,
   "id": "fe3a148e",
   "metadata": {},
   "outputs": [
    {
     "data": {
      "text/plain": [
       "True"
      ]
     },
     "execution_count": 25,
     "metadata": {},
     "output_type": "execute_result"
    }
   ],
   "source": [
    "wumpus_kb.ask_if_true(W13)"
   ]
  },
  {
   "cell_type": "code",
   "execution_count": 26,
   "id": "60ad4901",
   "metadata": {},
   "outputs": [
    {
     "data": {
      "text/plain": [
       "False"
      ]
     },
     "execution_count": 26,
     "metadata": {},
     "output_type": "execute_result"
    }
   ],
   "source": [
    "wumpus_kb.ask_if_true(W22)"
   ]
  },
  {
   "cell_type": "code",
   "execution_count": 27,
   "id": "b7b1c4a2",
   "metadata": {},
   "outputs": [
    {
     "data": {
      "text/plain": [
       "False"
      ]
     },
     "execution_count": 27,
     "metadata": {},
     "output_type": "execute_result"
    }
   ],
   "source": [
    "wumpus_kb.ask_if_true(P13)"
   ]
  },
  {
   "cell_type": "code",
   "execution_count": null,
   "id": "9a7e51b7",
   "metadata": {},
   "outputs": [],
   "source": []
  }
 ],
 "metadata": {
  "kernelspec": {
   "display_name": "Python 3",
   "language": "python",
   "name": "python3"
  },
  "language_info": {
   "codemirror_mode": {
    "name": "ipython",
    "version": 3
   },
   "file_extension": ".py",
   "mimetype": "text/x-python",
   "name": "python",
   "nbconvert_exporter": "python",
   "pygments_lexer": "ipython3",
   "version": "3.8.8"
  }
 },
 "nbformat": 4,
 "nbformat_minor": 5
}
