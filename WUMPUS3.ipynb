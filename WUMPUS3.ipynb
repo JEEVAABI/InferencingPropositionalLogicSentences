{
 "cells": [
  {
   "cell_type": "code",
   "execution_count": 75,
   "id": "a4f14013",
   "metadata": {},
   "outputs": [],
   "source": [
    "from utils import *\n",
    "from logic import *"
   ]
  },
  {
   "cell_type": "code",
   "execution_count": 76,
   "id": "21aa90a2",
   "metadata": {},
   "outputs": [],
   "source": [
    "wumpus_kb = PropKB()"
   ]
  },
  {
   "cell_type": "code",
   "execution_count": 77,
   "id": "5ae6caed",
   "metadata": {},
   "outputs": [
    {
     "data": {
      "text/plain": [
       "'P11,P12,P13,P14,P21,P22,P23,P24,P31,P32,P33,P34,P41,P42,P43,P44,B11,B12,B13,B14,B21,B22,B23,B24,B31,B32,B33,B34,B41,B42,B43,B44,W11,W12,W13,W14,W21,W22,W23,W24,W31,W32,W33,W34,W41,W42,W43,W44,S11,S12,S13,S14,S21,S22,S23,S24,S31,S32,S33,S34,S41,S42,S43,S44'"
      ]
     },
     "execution_count": 77,
     "metadata": {},
     "output_type": "execute_result"
    }
   ],
   "source": [
    "char=['P','B','W','S']\n",
    "abc=''\n",
    "ind=[1,2,3,4]\n",
    "for i in char:\n",
    "    for x in ind:\n",
    "        for y in ind:\n",
    "            abc= abc+(str(i)+str(x)+str(y))+','\n",
    "abc= abc[0:-1]\n",
    "abc"
   ]
  },
  {
   "cell_type": "code",
   "execution_count": 78,
   "id": "280ba063",
   "metadata": {},
   "outputs": [],
   "source": [
    "P11,P12,P13,P14,P21,P22,P23,P24,P31,P32,P33,P34,P41,P42,P43,P44,B11,B12,B13,B14,B21,B22,B23,B24,B31,B32,B33,B34,B41,B42,B43,B44,W11,W12,W13,W14,W21,W22,W23,W24,W31,W32,W33,W34,W41,W42,W43,W44,S11,S12,S13,S14,S21,S22,S23,S24,S31,S32,S33,S34,S41,S42,S43,S44= expr('P11,P12,P13,P14,P21,P22,P23,P24,P31,P32,P33,P34,P41,P42,P43,P44,B11,B12,B13,B14,B21,B22,B23,B24,B31,B32,B33,B34,B41,B42,B43,B44,W11,W12,W13,W14,W21,W22,W23,W24,W31,W32,W33,W34,W41,W42,W43,W44,S11,S12,S13,S14,S21,S22,S23,S24,S31,S32,S33,S34,S41,S42,S43,S44')"
   ]
  },
  {
   "cell_type": "code",
   "execution_count": 52,
   "id": "1c53923b",
   "metadata": {},
   "outputs": [],
   "source": [
    "wumpus_kb.tell(~P11)\n",
    "wumpus_kb.tell(~S11)\n",
    "wumpus_kb.tell(~W11)\n",
    "wumpus_kb.tell(~B11)\n",
    "wumpus_kb.tell(~S12)\n",
    "wumpus_kb.tell(~B12)\n",
    "wumpus_kb.tell(~P12)\n",
    "wumpus_kb.tell(~W12)\n",
    "wumpus_kb.tell(~P13)\n",
    "wumpus_kb.tell(~S13)\n",
    "wumpus_kb.tell(~W13)\n",
    "wumpus_kb.tell(~B13)\n",
    "wumpus_kb.tell(~S14)\n",
    "wumpus_kb.tell(~B14)\n",
    "wumpus_kb.tell(~P14)\n",
    "wumpus_kb.tell(~W14)"
   ]
  },
  {
   "cell_type": "code",
   "execution_count": 53,
   "id": "46355145",
   "metadata": {},
   "outputs": [
    {
     "data": {
      "text/plain": [
       "[~P11,\n",
       " ~S11,\n",
       " ~W11,\n",
       " ~B11,\n",
       " ~S12,\n",
       " ~B12,\n",
       " ~P12,\n",
       " ~W12,\n",
       " ~P13,\n",
       " ~S13,\n",
       " ~W13,\n",
       " ~B13,\n",
       " ~S14,\n",
       " ~B14,\n",
       " ~P14,\n",
       " ~W14]"
      ]
     },
     "execution_count": 53,
     "metadata": {},
     "output_type": "execute_result"
    }
   ],
   "source": [
    "wumpus_kb.clauses"
   ]
  },
  {
   "cell_type": "code",
   "execution_count": 59,
   "id": "aa3a9498",
   "metadata": {},
   "outputs": [
    {
     "data": {
      "text/plain": [
       "False"
      ]
     },
     "execution_count": 59,
     "metadata": {},
     "output_type": "execute_result"
    }
   ],
   "source": [
    "wumpus_kb.ask_if_true(P21)"
   ]
  },
  {
   "cell_type": "code",
   "execution_count": 79,
   "id": "632d1361",
   "metadata": {},
   "outputs": [],
   "source": [
    "wumpus_kb.tell(~S24)\n",
    "wumpus_kb.tell(~B24)\n",
    "wumpus_kb.tell(~P24)\n",
    "wumpus_kb.tell(~W24)"
   ]
  },
  {
   "cell_type": "code",
   "execution_count": 80,
   "id": "8dfe7899",
   "metadata": {},
   "outputs": [
    {
     "data": {
      "text/plain": [
       "[~S24, ~B24, ~P24, ~W24]"
      ]
     },
     "execution_count": 80,
     "metadata": {},
     "output_type": "execute_result"
    }
   ],
   "source": [
    "wumpus_kb.clauses"
   ]
  },
  {
   "cell_type": "code",
   "execution_count": 81,
   "id": "81e667f4",
   "metadata": {},
   "outputs": [
    {
     "data": {
      "text/plain": [
       "False"
      ]
     },
     "execution_count": 81,
     "metadata": {},
     "output_type": "execute_result"
    }
   ],
   "source": [
    "wumpus_kb.ask_if_true(W23)"
   ]
  },
  {
   "cell_type": "code",
   "execution_count": 82,
   "id": "39454f33",
   "metadata": {},
   "outputs": [],
   "source": [
    "wumpus_kb.tell(~S21)\n",
    "wumpus_kb.tell(~B21)\n",
    "wumpus_kb.tell(~P21)\n",
    "wumpus_kb.tell(~W21)"
   ]
  },
  {
   "cell_type": "code",
   "execution_count": 83,
   "id": "0070d82d",
   "metadata": {},
   "outputs": [
    {
     "data": {
      "text/plain": [
       "[~S24, ~B24, ~P24, ~W24, ~S21, ~B21, ~P21, ~W21]"
      ]
     },
     "execution_count": 83,
     "metadata": {},
     "output_type": "execute_result"
    }
   ],
   "source": [
    "wumpus_kb.clauses"
   ]
  },
  {
   "cell_type": "code",
   "execution_count": 84,
   "id": "0149dfd7",
   "metadata": {},
   "outputs": [
    {
     "data": {
      "text/plain": [
       "False"
      ]
     },
     "execution_count": 84,
     "metadata": {},
     "output_type": "execute_result"
    }
   ],
   "source": [
    "wumpus_kb.ask_if_true(B21)"
   ]
  },
  {
   "cell_type": "code",
   "execution_count": 85,
   "id": "8c15cc0f",
   "metadata": {},
   "outputs": [],
   "source": [
    "wumpus_kb.tell(~S22)\n",
    "wumpus_kb.tell(~B22)\n",
    "wumpus_kb.tell(~P22)\n",
    "wumpus_kb.tell(~W22)\n"
   ]
  },
  {
   "cell_type": "code",
   "execution_count": 86,
   "id": "bb922220",
   "metadata": {},
   "outputs": [
    {
     "data": {
      "text/plain": [
       "[~S24, ~B24, ~P24, ~W24, ~S21, ~B21, ~P21, ~W21, ~S22, ~B22, ~P22, ~W22]"
      ]
     },
     "execution_count": 86,
     "metadata": {},
     "output_type": "execute_result"
    }
   ],
   "source": [
    "wumpus_kb.clauses"
   ]
  },
  {
   "cell_type": "code",
   "execution_count": 87,
   "id": "7b56876f",
   "metadata": {},
   "outputs": [
    {
     "data": {
      "text/plain": [
       "False"
      ]
     },
     "execution_count": 87,
     "metadata": {},
     "output_type": "execute_result"
    }
   ],
   "source": [
    "wumpus_kb.ask_if_true(B22)"
   ]
  },
  {
   "cell_type": "code",
   "execution_count": 88,
   "id": "d4b8d23f",
   "metadata": {},
   "outputs": [],
   "source": [
    "wumpus_kb.tell(B34)\n",
    "wumpus_kb.tell(B23)\n",
    "wumpus_kb.tell(B31)\n",
    "wumpus_kb.tell(B32)\n",
    "wumpus_kb.tell(B44)\n",
    "wumpus_kb.tell(B42)"
   ]
  },
  {
   "cell_type": "code",
   "execution_count": 89,
   "id": "056c1e51",
   "metadata": {},
   "outputs": [],
   "source": [
    "wumpus_kb.tell(S12 | '<=>' | ((W22 | W13)))\n",
    "wumpus_kb.tell(~B12 | '<=>' | ((~P22 | ~P13)))\n",
    "wumpus_kb.tell(B23 | '<=>' | ((P33 | P34)))\n",
    "\n",
    "wumpus_kb.tell(B31 | '<=>' | ((P41| P23)))\n",
    "wumpus_kb.tell(B32 | '<=>' | ((P33| P42)))\n",
    "wumpus_kb.tell(B34 | '<=>' | ((P33| P44)))\n",
    "\n",
    "\n",
    "\n"
   ]
  },
  {
   "cell_type": "code",
   "execution_count": 90,
   "id": "8ca5327c",
   "metadata": {},
   "outputs": [
    {
     "data": {
      "text/plain": [
       "[~S24,\n",
       " ~B24,\n",
       " ~P24,\n",
       " ~W24,\n",
       " ~S21,\n",
       " ~B21,\n",
       " ~P21,\n",
       " ~W21,\n",
       " ~S22,\n",
       " ~B22,\n",
       " ~P22,\n",
       " ~W22,\n",
       " B34,\n",
       " B23,\n",
       " B31,\n",
       " B32,\n",
       " B44,\n",
       " B42,\n",
       " (~W22 | S12),\n",
       " (~W13 | S12),\n",
       " (W22 | W13 | ~S12),\n",
       " (P22 | ~B12),\n",
       " (P13 | ~B12),\n",
       " (~P22 | ~P13 | B12),\n",
       " (~P33 | B23),\n",
       " (~P34 | B23),\n",
       " (P33 | P34 | ~B23),\n",
       " (~P41 | B31),\n",
       " (~P23 | B31),\n",
       " (P41 | P23 | ~B31),\n",
       " (~P33 | B32),\n",
       " (~P42 | B32),\n",
       " (P33 | P42 | ~B32),\n",
       " (~P33 | B34),\n",
       " (~P44 | B34),\n",
       " (P33 | P44 | ~B34)]"
      ]
     },
     "execution_count": 90,
     "metadata": {},
     "output_type": "execute_result"
    }
   ],
   "source": [
    "wumpus_kb.clauses"
   ]
  },
  {
   "cell_type": "code",
   "execution_count": 91,
   "id": "3f4cb49d",
   "metadata": {},
   "outputs": [
    {
     "data": {
      "text/plain": [
       "False"
      ]
     },
     "execution_count": 91,
     "metadata": {},
     "output_type": "execute_result"
    }
   ],
   "source": [
    "wumpus_kb.ask_if_true(~P41)"
   ]
  },
  {
   "cell_type": "code",
   "execution_count": null,
   "id": "b0299d6a",
   "metadata": {},
   "outputs": [],
   "source": []
  }
 ],
 "metadata": {
  "kernelspec": {
   "display_name": "Python 3",
   "language": "python",
   "name": "python3"
  },
  "language_info": {
   "codemirror_mode": {
    "name": "ipython",
    "version": 3
   },
   "file_extension": ".py",
   "mimetype": "text/x-python",
   "name": "python",
   "nbconvert_exporter": "python",
   "pygments_lexer": "ipython3",
   "version": "3.8.8"
  },
  "vscode": {
   "interpreter": {
    "hash": "47ec762f914a163e56c398822d2409c1abc4573a154341c06262bb198c02cb66"
   }
  }
 },
 "nbformat": 4,
 "nbformat_minor": 5
}
