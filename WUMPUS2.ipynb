{
 "cells": [
  {
   "cell_type": "code",
   "execution_count": null,
   "id": "dc8fe57d",
   "metadata": {},
   "outputs": [],
   "source": [
    "from utils import *\n",
    "from logic import *"
   ]
  },
  {
   "cell_type": "code",
   "execution_count": null,
   "id": "eb5d7761",
   "metadata": {},
   "outputs": [],
   "source": [
    "wumpus_kb = PropKB()"
   ]
  },
  {
   "cell_type": "code",
   "execution_count": null,
   "id": "b495ebe2",
   "metadata": {},
   "outputs": [],
   "source": [
    "char=['P','B','W','S']\n",
    "abc=''\n",
    "ind=[1,2,3,4]\n",
    "for i in char:\n",
    "    for x in ind:\n",
    "        for y in ind:\n",
    "            abc= abc+(str(i)+str(x)+str(y))+','\n",
    "abc= abc[0:-1]\n",
    "abc"
   ]
  },
  {
   "cell_type": "code",
   "execution_count": null,
   "id": "80b4f4b5",
   "metadata": {},
   "outputs": [],
   "source": [
    "P11,P12,P13,P14,P21,P22,P23,P24,P31,P32,P33,P34,P41,P42,P43,P44,B11,B12,B13,B14,B21,B22,B23,B24,B31,B32,B33,B34,B41,B42,B43,B44,W11,W12,W13,W14,W21,W22,W23,W24,W31,W32,W33,W34,W41,W42,W43,W44,S11,S12,S13,S14,S21,S22,S23,S24,S31,S32,S33,S34,S41,S42,S43,S44= expr('P11,P12,P13,P14,P21,P22,P23,P24,P31,P32,P33,P34,P41,P42,P43,P44,B11,B12,B13,B14,B21,B22,B23,B24,B31,B32,B33,B34,B41,B42,B43,B44,W11,W12,W13,W14,W21,W22,W23,W24,W31,W32,W33,W34,W41,W42,W43,W44,S11,S12,S13,S14,S21,S22,S23,S24,S31,S32,S33,S34,S41,S42,S43,S44')"
   ]
  },
  {
   "cell_type": "code",
   "execution_count": 18,
   "id": "25ce9e26",
   "metadata": {},
   "outputs": [],
   "source": [
    "wumpus_kb.tell(~P11)\n",
    "wumpus_kb.tell(~S11)\n",
    "wumpus_kb.tell(~W11)\n",
    "wumpus_kb.tell(~B11)\n",
    "wumpus_kb.tell(~S12)\n",
    "wumpus_kb.tell(~B12)\n",
    "wumpus_kb.tell(~P12)\n",
    "wumpus_kb.tell(~W12)\n",
    "wumpus_kb.tell(~P13)\n",
    "wumpus_kb.tell(~S13)\n",
    "wumpus_kb.tell(~W13)\n",
    "wumpus_kb.tell(~B13)\n",
    "wumpus_kb.tell(~S14)\n",
    "wumpus_kb.tell(~B14)\n",
    "wumpus_kb.tell(~P14)\n",
    "wumpus_kb.tell(~W14)\n",
    "wumpus_kb.tell(~S24)\n",
    "wumpus_kb.tell(~B24)\n",
    "wumpus_kb.tell(~P24)\n",
    "wumpus_kb.tell(~W24)\n",
    "wumpus_kb.tell(B34)\n",
    "wumpus_kb.tell(B44)\n",
    "wumpus_kb.tell(B23)\n",
    "wumpus_kb.tell(~S21)\n",
    "wumpus_kb.tell(~B21)\n",
    "wumpus_kb.tell(~P21)\n",
    "wumpus_kb.tell(~W21)\n",
    "wumpus_kb.tell(~S22)\n",
    "wumpus_kb.tell(~B22)\n",
    "wumpus_kb.tell(~P22)\n",
    "wumpus_kb.tell(~W22)\n",
    "wumpus_kb.tell(B31)\n",
    "wumpus_kb.tell(B32)\n",
    "wumpus_kb.tell(B33)\n",
    "\n",
    "wumpus_kb.tell(B42)\n",
    "\n",
    "\n"
   ]
  },
  {
   "cell_type": "code",
   "execution_count": null,
   "id": "bac05349",
   "metadata": {},
   "outputs": [],
   "source": []
  },
  {
   "cell_type": "code",
   "execution_count": null,
   "id": "a44cd57a",
   "metadata": {},
   "outputs": [],
   "source": []
  },
  {
   "cell_type": "code",
   "execution_count": null,
   "id": "b0ec59a4",
   "metadata": {},
   "outputs": [],
   "source": [
    "wumpus_kb.tell(S12 | '<=>' | ((W22 | W13)))\n",
    "wumpus_kb.tell(~B12 | '<=>' | ((~P22 | ~P13)))\n",
    "wumpus_kb.tell(B23 | '<=>' | (P33 | P34)))\n",
    "\n",
    "wumpus_kb.tell(B31 | '<=>' | ((P41| P23)))\n",
    "wumpus_kb.tell(B32 | '<=>' | ((P33| P42)))\n",
    "wumpus_kb.tell(B34 | '<=>' | ((P33| P44)))\n"
   ]
  },
  {
   "cell_type": "code",
   "execution_count": null,
   "id": "72edefb1",
   "metadata": {},
   "outputs": [],
   "source": [
    "wumpus_kb.clauses"
   ]
  },
  {
   "cell_type": "code",
   "execution_count": 22,
   "id": "a1592f4a",
   "metadata": {},
   "outputs": [],
   "source": [
    "\n"
   ]
  },
  {
   "cell_type": "code",
   "execution_count": 23,
   "id": "dab78d52",
   "metadata": {},
   "outputs": [],
   "source": []
  },
  {
   "cell_type": "code",
   "execution_count": null,
   "id": "0466a093",
   "metadata": {},
   "outputs": [],
   "source": []
  },
  {
   "cell_type": "code",
   "execution_count": 25,
   "id": "fe3a148e",
   "metadata": {},
   "outputs": [
    {
     "data": {
      "text/plain": [
       "True"
      ]
     },
     "execution_count": 25,
     "metadata": {},
     "output_type": "execute_result"
    }
   ],
   "source": [
    "wumpus_kb.ask_if_true(W13)"
   ]
  },
  {
   "cell_type": "code",
   "execution_count": 26,
   "id": "60ad4901",
   "metadata": {},
   "outputs": [
    {
     "data": {
      "text/plain": [
       "False"
      ]
     },
     "execution_count": 26,
     "metadata": {},
     "output_type": "execute_result"
    }
   ],
   "source": [
    "wumpus_kb.ask_if_true(W22)"
   ]
  },
  {
   "cell_type": "code",
   "execution_count": 27,
   "id": "b7b1c4a2",
   "metadata": {},
   "outputs": [
    {
     "data": {
      "text/plain": [
       "False"
      ]
     },
     "execution_count": 27,
     "metadata": {},
     "output_type": "execute_result"
    }
   ],
   "source": [
    "wumpus_kb.ask_if_true(P13)"
   ]
  },
  {
   "cell_type": "code",
   "execution_count": null,
   "id": "9a7e51b7",
   "metadata": {},
   "outputs": [],
   "source": []
  }
 ],
 "metadata": {
  "kernelspec": {
   "display_name": "Python 3",
   "language": "python",
   "name": "python3"
  },
  "language_info": {
   "codemirror_mode": {
    "name": "ipython",
    "version": 3
   },
   "file_extension": ".py",
   "mimetype": "text/x-python",
   "name": "python",
   "nbconvert_exporter": "python",
   "pygments_lexer": "ipython3",
   "version": "3.8.8"
  }
 },
 "nbformat": 4,
 "nbformat_minor": 5
}
